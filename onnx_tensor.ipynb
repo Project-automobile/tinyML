{
 "cells": [
  {
   "cell_type": "code",
   "execution_count": 1,
   "metadata": {},
   "outputs": [],
   "source": [
    "import onnx\n",
    "from scc4onnx import order_conversion\n",
    "from onnxsim import simplify\n",
    "# from onnx_tf.backend import prepare"
   ]
  },
  {
   "cell_type": "code",
   "execution_count": 2,
   "metadata": {},
   "outputs": [],
   "source": [
    "import onnx\n",
    "import tf2onnx\n",
    "import tensorflow as tf"
   ]
  },
  {
   "cell_type": "code",
   "execution_count": 3,
   "metadata": {},
   "outputs": [
    {
     "data": {
      "text/plain": [
       "name: \"images\"\n",
       "type {\n",
       "  tensor_type {\n",
       "    elem_type: 1\n",
       "    shape {\n",
       "      dim {\n",
       "        dim_value: 1\n",
       "      }\n",
       "      dim {\n",
       "        dim_value: 3\n",
       "      }\n",
       "      dim {\n",
       "        dim_value: 640\n",
       "      }\n",
       "      dim {\n",
       "        dim_value: 640\n",
       "      }\n",
       "    }\n",
       "  }\n",
       "}"
      ]
     },
     "execution_count": 3,
     "metadata": {},
     "output_type": "execute_result"
    }
   ],
   "source": [
    "onnx_model = onnx.load(\"yolov8n.onnx\")\n",
    "onnx_model.graph.input[0]"
   ]
  },
  {
   "cell_type": "code",
   "execution_count": 4,
   "metadata": {},
   "outputs": [
    {
     "data": {
      "text/plain": [
       "'images'"
      ]
     },
     "execution_count": 4,
     "metadata": {},
     "output_type": "execute_result"
    }
   ],
   "source": [
    "input_name = onnx_model.graph.input[0].name\n",
    "input_name"
   ]
  },
  {
   "cell_type": "code",
   "execution_count": 5,
   "metadata": {},
   "outputs": [
    {
     "data": {
      "text/plain": [
       "name: \"images\"\n",
       "type {\n",
       "  tensor_type {\n",
       "    elem_type: 1\n",
       "    shape {\n",
       "      dim {\n",
       "        dim_value: 1\n",
       "      }\n",
       "      dim {\n",
       "        dim_value: 3\n",
       "      }\n",
       "      dim {\n",
       "        dim_value: 640\n",
       "      }\n",
       "      dim {\n",
       "        dim_value: 640\n",
       "      }\n",
       "    }\n",
       "  }\n",
       "}"
      ]
     },
     "execution_count": 5,
     "metadata": {},
     "output_type": "execute_result"
    }
   ],
   "source": [
    "onnx_model.graph.input[0]"
   ]
  },
  {
   "cell_type": "code",
   "execution_count": 6,
   "metadata": {},
   "outputs": [
    {
     "data": {
      "text/plain": [
       "True"
      ]
     },
     "execution_count": 6,
     "metadata": {},
     "output_type": "execute_result"
    }
   ],
   "source": [
    "onnx_model, check = simplify(onnx_model)\n",
    "check"
   ]
  },
  {
   "cell_type": "code",
   "execution_count": 7,
   "metadata": {},
   "outputs": [],
   "source": [
    "# %pip install onnx-tf\n",
    "# %pip install tensorflow_probability\n",
    "# %pip install --upgrade tensorflow\n"
   ]
  },
  {
   "cell_type": "code",
   "execution_count": 8,
   "metadata": {},
   "outputs": [
    {
     "name": "stderr",
     "output_type": "stream",
     "text": [
      "e:\\downloads\\yolo_py\\.venv\\lib\\site-packages\\tensorflow_addons\\utils\\tfa_eol_msg.py:23: UserWarning: \n",
      "\n",
      "TensorFlow Addons (TFA) has ended development and introduction of new features.\n",
      "TFA has entered a minimal maintenance and release mode until a planned end of life in May 2024.\n",
      "Please modify downstream libraries to take dependencies from other repositories in our TensorFlow community (e.g. Keras, Keras-CV, and Keras-NLP). \n",
      "\n",
      "For more information see: https://github.com/tensorflow/addons/issues/2807 \n",
      "\n",
      "  warnings.warn(\n"
     ]
    }
   ],
   "source": [
    "from onnx_tf.backend import prepare\n",
    "tf_rep = prepare(onnx_model)"
   ]
  },
  {
   "cell_type": "code",
   "execution_count": 9,
   "metadata": {},
   "outputs": [],
   "source": [
    "from pathlib import Path\n",
    "data_dir = 'E:\\downloads\\yolo_py'\n",
    "onnx_files = [p for p in Path(data_dir).iterdir() if p.suffix == '.onnx']\n",
    "for onnx_file in onnx_files:\n",
    "    # Load the ONNX model\n",
    "    onnx_model = onnx.load(onnx_file)\n",
    "\n",
    "    # Convert ONNX model to TensorFlow\n",
    "    spec = (tf.TensorSpec((None, 640, 640, 3), tf.float32, name=\"input\"),)\n",
    "    # tf_model, _ = tf2onnx.convert.from_onnx_model(onnx_model, input_signature=spec)\n",
    "    tf_rep = prepare(onnx_model)\n",
    "\n",
    "    # Save the TensorFlow model\n",
    "    tf_model_dir = onnx_file.stem + \"_tf\"\n",
    "    "
   ]
  },
  {
   "cell_type": "code",
   "execution_count": 10,
   "metadata": {},
   "outputs": [
    {
     "data": {
      "text/plain": [
       "'yolov8n_tf'"
      ]
     },
     "execution_count": 10,
     "metadata": {},
     "output_type": "execute_result"
    }
   ],
   "source": [
    "tf_model_dir"
   ]
  },
  {
   "cell_type": "code",
   "execution_count": 11,
   "metadata": {},
   "outputs": [
    {
     "name": "stderr",
     "output_type": "stream",
     "text": [
      "INFO:absl:Function `__call__` contains input name(s) x, y with unsupported characters which will be renamed to onnx_tf_prefix__model_22_add_1_x, onnx_tf_prefix__model_22_mul_2_y in the SavedModel.\n",
      "INFO:absl:Found untraced functions such as gen_tensor_dict while saving (showing 1 of 1). These functions will not be directly callable after loading.\n"
     ]
    },
    {
     "name": "stdout",
     "output_type": "stream",
     "text": [
      "INFO:tensorflow:Assets written to: yolov8n_tf\\assets\n"
     ]
    },
    {
     "name": "stderr",
     "output_type": "stream",
     "text": [
      "INFO:tensorflow:Assets written to: yolov8n_tf\\assets\n",
      "INFO:absl:Writing fingerprint to yolov8n_tf\\fingerprint.pb\n"
     ]
    }
   ],
   "source": [
    "tf_rep.export_graph(tf_model_dir)"
   ]
  },
  {
   "cell_type": "code",
   "execution_count": 12,
   "metadata": {},
   "outputs": [],
   "source": [
    "from IPython.display import Markdown, display"
   ]
  },
  {
   "cell_type": "code",
   "execution_count": 13,
   "metadata": {},
   "outputs": [
    {
     "data": {
      "text/plain": [
       "'yolov8n_tf-tfjs-uint8'"
      ]
     },
     "execution_count": 13,
     "metadata": {},
     "output_type": "execute_result"
    }
   ],
   "source": [
    "tfjs_model_dir = f\"{tf_model_dir}-tfjs-uint8\"\n",
    "tfjs_model_dir"
   ]
  },
  {
   "cell_type": "code",
   "execution_count": 14,
   "metadata": {},
   "outputs": [
    {
     "data": {
      "text/markdown": [
       "```bash\n",
       "tensorflowjs_converter --input_format=tf_saved_model --output_format=tfjs_graph_model --signature_name=serving_default --saved_model_tags=serve \"yolov8n_tf\" \"yolov8n_tf-tfjs-uint8\" \"--quantize_uint8\"\n",
       "```"
      ],
      "text/plain": [
       "<IPython.core.display.Markdown object>"
      ]
     },
     "metadata": {},
     "output_type": "display_data"
    }
   ],
   "source": [
    "tfjs_convert_command = f\"\"\"tensorflowjs_converter\n",
    "                 --input_format=tf_saved_model \n",
    "                 --output_format=tfjs_graph_model \n",
    "                 --signature_name=serving_default \n",
    "                 --saved_model_tags=serve \n",
    "                 \"{tf_model_dir}\" \n",
    "                 \"{tfjs_model_dir}\"\n",
    "                 \"--quantize_uint8\"\n",
    "                 \"\"\"\n",
    "tfjs_convert_command = \" \".join(tfjs_convert_command.split())\n",
    "display(Markdown(f\"```bash\\n{tfjs_convert_command}\\n```\"))"
   ]
  },
  {
   "cell_type": "code",
   "execution_count": 17,
   "metadata": {},
   "outputs": [
    {
     "name": "stderr",
     "output_type": "stream",
     "text": [
      "INFO:absl:Function `__call__` contains input name(s) x, y with unsupported characters which will be renamed to onnx_tf_prefix__model_22_add_1_x, onnx_tf_prefix__model_22_mul_2_y in the SavedModel.\n",
      "INFO:absl:Found untraced functions such as gen_tensor_dict while saving (showing 1 of 1). These functions will not be directly callable after loading.\n"
     ]
    },
    {
     "name": "stdout",
     "output_type": "stream",
     "text": [
      "INFO:tensorflow:Assets written to: yolov8n.tf\\assets\n"
     ]
    },
    {
     "name": "stderr",
     "output_type": "stream",
     "text": [
      "INFO:tensorflow:Assets written to: yolov8n.tf\\assets\n",
      "INFO:absl:Writing fingerprint to yolov8n.tf\\fingerprint.pb\n"
     ]
    }
   ],
   "source": [
    "tf_rep.export_graph(\"yolov8n.tf\")"
   ]
  },
  {
   "cell_type": "code",
   "execution_count": 19,
   "metadata": {},
   "outputs": [
    {
     "name": "stdout",
     "output_type": "stream",
     "text": [
      "Successfully converted to TFLite!\n"
     ]
    }
   ],
   "source": [
    "converter = tf.lite.TFLiteConverter.from_saved_model(\"yolov8n_tf\")\n",
    "# Enable TF Select Ops (keeps unsupported ops in the model)\n",
    "converter.target_spec.supported_ops = [\n",
    "    tf.lite.OpsSet.TFLITE_BUILTINS,  # Default ops\n",
    "    tf.lite.OpsSet.SELECT_TF_OPS      # Enables unsupported TensorFlow ops\n",
    "]\n",
    "\n",
    "tflite_model = converter.convert()\n",
    "with open(\"yolov8n.tflite\", \"wb\") as f:\n",
    "    f.write(tflite_model)\n",
    "\n",
    "print(\"Successfully converted to TFLite!\")"
   ]
  },
  {
   "cell_type": "code",
   "execution_count": 20,
   "metadata": {},
   "outputs": [
    {
     "name": "stdout",
     "output_type": "stream",
     "text": [
      "File size: 12.19 MB\n"
     ]
    }
   ],
   "source": [
    "import os\n",
    "\n",
    "# File path\n",
    "file_path = \"yolov8n.tflite\"\n",
    "\n",
    "# Get file size in MB\n",
    "file_size = os.path.getsize(file_path) / (1024 * 1024)\n",
    "print(f\"File size: {file_size:.2f} MB\")"
   ]
  },
  {
   "cell_type": "code",
   "execution_count": 23,
   "metadata": {},
   "outputs": [
    {
     "name": "stdout",
     "output_type": "stream",
     "text": [
      "File size: 6.25 MB\n"
     ]
    }
   ],
   "source": [
    "import os\n",
    "\n",
    "# File path\n",
    "file_path = \"yolov8n.pt\"\n",
    "\n",
    "# Get file size in MB\n",
    "file_size = os.path.getsize(file_path) / (1024 * 1024)\n",
    "print(f\"File size: {file_size:.2f} MB\")"
   ]
  },
  {
   "cell_type": "code",
   "execution_count": 25,
   "metadata": {},
   "outputs": [
    {
     "name": "stdout",
     "output_type": "stream",
     "text": [
      "Quantized TFLite model saved!\n"
     ]
    }
   ],
   "source": [
    "# Optimizing the model\n",
    "# Load the TFLite model\n",
    "converter = tf.lite.TFLiteConverter.from_saved_model(\"yolov8n_tf\")\n",
    "\n",
    "# Enable optimization\n",
    "converter.optimizations = [tf.lite.Optimize.DEFAULT]\n",
    "converter.target_spec.supported_ops = [\n",
    "    tf.lite.OpsSet.TFLITE_BUILTINS,  # Default ops\n",
    "    tf.lite.OpsSet.SELECT_TF_OPS      # Enables unsupported TensorFlow ops\n",
    "]\n",
    "\n",
    "# Convert to TFLite\n",
    "tflite_model = converter.convert()\n",
    "\n",
    "# Save optimized model\n",
    "with open(\"yolov8n_optimized.tflite\", \"wb\") as f:\n",
    "    f.write(tflite_model)\n",
    "\n",
    "print(\"Quantized TFLite model saved!\")"
   ]
  },
  {
   "cell_type": "code",
   "execution_count": 27,
   "metadata": {},
   "outputs": [
    {
     "name": "stdout",
     "output_type": "stream",
     "text": [
      "File size: 3.25 MB\n"
     ]
    }
   ],
   "source": [
    "file_path = \"yolov8n_optimized.tflite\"\n",
    "\n",
    "# Get file size in MB\n",
    "file_size = os.path.getsize(file_path) / (1024 * 1024)\n",
    "print(f\"File size: {file_size:.2f} MB\")"
   ]
  },
  {
   "cell_type": "code",
   "execution_count": null,
   "metadata": {},
   "outputs": [],
   "source": []
  }
 ],
 "metadata": {
  "kernelspec": {
   "display_name": ".venv",
   "language": "python",
   "name": "python3"
  },
  "language_info": {
   "codemirror_mode": {
    "name": "ipython",
    "version": 3
   },
   "file_extension": ".py",
   "mimetype": "text/x-python",
   "name": "python",
   "nbconvert_exporter": "python",
   "pygments_lexer": "ipython3",
   "version": "3.8.0"
  }
 },
 "nbformat": 4,
 "nbformat_minor": 2
}
